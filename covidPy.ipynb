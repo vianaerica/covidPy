{
  "nbformat": 4,
  "nbformat_minor": 0,
  "metadata": {
    "colab": {
      "name": "covidPy.ipynb",
      "provenance": [],
      "collapsed_sections": [],
      "toc_visible": true,
      "authorship_tag": "ABX9TyOA1hZbMo63+mo5Y96DW8kh",
      "include_colab_link": true
    },
    "kernelspec": {
      "name": "python3",
      "display_name": "Python 3"
    }
  },
  "cells": [
    {
      "cell_type": "markdown",
      "metadata": {
        "id": "view-in-github",
        "colab_type": "text"
      },
      "source": [
        "<a href=\"https://colab.research.google.com/github/vianaerica/covidPy/blob/master/covidPy.ipynb\" target=\"_parent\"><img src=\"https://colab.research.google.com/assets/colab-badge.svg\" alt=\"Open In Colab\"/></a>"
      ]
    },
    {
      "cell_type": "code",
      "metadata": {
        "id": "MrQq5_m85Ubi",
        "colab_type": "code",
        "colab": {
          "base_uri": "https://localhost:8080/",
          "height": 71
        },
        "outputId": "dd28273d-e137-400e-f9e5-8ff0fc01bf9e"
      },
      "source": [
        "import pandas as pd\n",
        "import seaborn as sns\n",
        "import numpy as np\n",
        "import matplotlib.pyplot as plt"
      ],
      "execution_count": 1,
      "outputs": [
        {
          "output_type": "stream",
          "text": [
            "/usr/local/lib/python3.6/dist-packages/statsmodels/tools/_testing.py:19: FutureWarning: pandas.util.testing is deprecated. Use the functions in the public API at pandas.testing instead.\n",
            "  import pandas.util.testing as tm\n"
          ],
          "name": "stderr"
        }
      ]
    },
    {
      "cell_type": "code",
      "metadata": {
        "id": "61uKFe_M_-dF",
        "colab_type": "code",
        "colab": {
          "base_uri": "https://localhost:8080/",
          "height": 439
        },
        "outputId": "029b1f40-f07d-4e9d-8fb0-eab382e5c5a0"
      },
      "source": [
        "pd.read_csv('covid19mg.csv', sep=',', encoding='latin-1')"
      ],
      "execution_count": 3,
      "outputs": [
        {
          "output_type": "execute_result",
          "data": {
            "text/html": [
              "<div>\n",
              "<style scoped>\n",
              "    .dataframe tbody tr th:only-of-type {\n",
              "        vertical-align: middle;\n",
              "    }\n",
              "\n",
              "    .dataframe tbody tr th {\n",
              "        vertical-align: top;\n",
              "    }\n",
              "\n",
              "    .dataframe thead th {\n",
              "        text-align: right;\n",
              "    }\n",
              "</style>\n",
              "<table border=\"1\" class=\"dataframe\">\n",
              "  <thead>\n",
              "    <tr style=\"text-align: right;\">\n",
              "      <th></th>\n",
              "      <th>;ID;CONTADOR;DATA_NOTIFICACAO;CLASSIFICACAO_CASO;SEXO;IDADE;FAIXA_ETARIA;MUNICIPIO_RESIDENCIA_COD;MUNICIPIO_RESIDENCIA;COMORBIDADE;EVOLUCAO;INTERNACAO;UTI;DATA_ATUALIZACAO</th>\n",
              "    </tr>\n",
              "  </thead>\n",
              "  <tbody>\n",
              "    <tr>\n",
              "      <th>0</th>\n",
              "      <td>1;1;296297;04/03/2020;Caso Confirmado;Feminino...</td>\n",
              "    </tr>\n",
              "    <tr>\n",
              "      <th>1</th>\n",
              "      <td>2;2;296298;07/03/2020;Caso Confirmado;Feminino...</td>\n",
              "    </tr>\n",
              "    <tr>\n",
              "      <th>2</th>\n",
              "      <td>3;3;296299;14/03/2020;Caso Confirmado;Masculin...</td>\n",
              "    </tr>\n",
              "    <tr>\n",
              "      <th>3</th>\n",
              "      <td>4;4;296300;14/03/2020;Caso Confirmado;Feminino...</td>\n",
              "    </tr>\n",
              "    <tr>\n",
              "      <th>4</th>\n",
              "      <td>5;5;296301;16/03/2020;Caso Confirmado;Masculin...</td>\n",
              "    </tr>\n",
              "    <tr>\n",
              "      <th>...</th>\n",
              "      <td>...</td>\n",
              "    </tr>\n",
              "    <tr>\n",
              "      <th>32764</th>\n",
              "      <td>32765;35434;329061;24/06/2020;Caso Confirmado;...</td>\n",
              "    </tr>\n",
              "    <tr>\n",
              "      <th>32765</th>\n",
              "      <td>32766;35434;329062;23/06/2020;Caso Confirmado;...</td>\n",
              "    </tr>\n",
              "    <tr>\n",
              "      <th>32766</th>\n",
              "      <td>32767;35435;329063;18/06/2020;Caso Confirmado;...</td>\n",
              "    </tr>\n",
              "    <tr>\n",
              "      <th>32767</th>\n",
              "      <td>32768;35435;329064;14/06/2020;Caso Confirmado;...</td>\n",
              "    </tr>\n",
              "    <tr>\n",
              "      <th>32768</th>\n",
              "      <td>32769;35436;329065;23/06/2020;Caso Confirmado;...</td>\n",
              "    </tr>\n",
              "  </tbody>\n",
              "</table>\n",
              "<p>32769 rows × 1 columns</p>\n",
              "</div>"
            ],
            "text/plain": [
              "      ;ID;CONTADOR;DATA_NOTIFICACAO;CLASSIFICACAO_CASO;SEXO;IDADE;FAIXA_ETARIA;MUNICIPIO_RESIDENCIA_COD;MUNICIPIO_RESIDENCIA;COMORBIDADE;EVOLUCAO;INTERNACAO;UTI;DATA_ATUALIZACAO\n",
              "0      1;1;296297;04/03/2020;Caso Confirmado;Feminino...                                                                                                                         \n",
              "1      2;2;296298;07/03/2020;Caso Confirmado;Feminino...                                                                                                                         \n",
              "2      3;3;296299;14/03/2020;Caso Confirmado;Masculin...                                                                                                                         \n",
              "3      4;4;296300;14/03/2020;Caso Confirmado;Feminino...                                                                                                                         \n",
              "4      5;5;296301;16/03/2020;Caso Confirmado;Masculin...                                                                                                                         \n",
              "...                                                  ...                                                                                                                         \n",
              "32764  32765;35434;329061;24/06/2020;Caso Confirmado;...                                                                                                                         \n",
              "32765  32766;35434;329062;23/06/2020;Caso Confirmado;...                                                                                                                         \n",
              "32766  32767;35435;329063;18/06/2020;Caso Confirmado;...                                                                                                                         \n",
              "32767  32768;35435;329064;14/06/2020;Caso Confirmado;...                                                                                                                         \n",
              "32768  32769;35436;329065;23/06/2020;Caso Confirmado;...                                                                                                                         \n",
              "\n",
              "[32769 rows x 1 columns]"
            ]
          },
          "metadata": {
            "tags": []
          },
          "execution_count": 3
        }
      ]
    },
    {
      "cell_type": "code",
      "metadata": {
        "id": "Rfe2c-CwATmV",
        "colab_type": "code",
        "colab": {}
      },
      "source": [
        ""
      ],
      "execution_count": null,
      "outputs": []
    }
  ]
}